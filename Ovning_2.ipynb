{
 "cells": [
  {
   "cell_type": "markdown",
   "metadata": {},
   "source": [
    "# Övning 2\n",
    "\n",
    "Genomförs i denna notebook genom att du skapar lämpligt antal nya kodblock.\n",
    "\n",
    "\n",
    "\n",
    "1. Skapa en strängvariabel som du döper till `name` och spara ditt förnamn och efternamn i en enda sträng i denna variabel. \n",
    "\n",
    "2. Skapa en integervariabel som du döper till `iceCreamRating` och använd denna för att spara ettnummer mellan 0 till 10 som speglar hur mycket du tycker om glass. \n",
    "\n",
    "3. Koda sedan i Python något som ger ungefär denna output: \n",
    "    \n",
    "    Mitt namn är Elin Uppström och jag ger glassätning 7 poäng av 10 möjliga!\n",
    "    \n",
    "    **OBS!** Elin Uppström ska såklart bestå av innehållet i variabeln `name` och poängen ska komma från variabeln `iceCreamRating`\n",
    "    \n",
    "   "
   ]
  },
  {
   "cell_type": "code",
   "execution_count": null,
   "metadata": {},
   "outputs": [],
   "source": []
  }
 ],
 "metadata": {
  "kernelspec": {
   "display_name": "Python 3",
   "language": "python",
   "name": "python3"
  },
  "language_info": {
   "codemirror_mode": {
    "name": "ipython",
    "version": 3
   },
   "file_extension": ".py",
   "mimetype": "text/x-python",
   "name": "python",
   "nbconvert_exporter": "python",
   "pygments_lexer": "ipython3",
   "version": "3.7.4"
  }
 },
 "nbformat": 4,
 "nbformat_minor": 4
}
