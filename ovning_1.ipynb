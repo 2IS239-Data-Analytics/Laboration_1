{
 "cells": [
  {
   "cell_type": "markdown",
   "metadata": {},
   "source": [
    "#ÖVNING 1\n",
    "---\n",
    "\n",
    "Kort introduktion till Python\n",
    "\n",
    "Frågor:\n",
    "  - \"Vad är Python?\"\n",
    "  - \"Varför bör jag lära mig Python?\"\n",
    "\n",
    "Läromål:\n",
    "  - \"Fördelar med att programmera jämfört med att göra repitivita uppgifter manuellt.\"\n",
    "  - \"Definerar datatyper i Python: strängar, integers och float.\"\n",
    "  - \"Utföra matematiska operationer i Python\"\n",
    "  - \"Definierar följande begrepp i Python: Listor, tupler och ordböcker (dictionaries).\"\n",
    "---"
   ]
  },
  {
   "cell_type": "markdown",
   "metadata": {},
   "source": [
    "# Vad är Python?\n",
    "\n",
    "Pythonär ett generellt programmeringsspråk som supporterar snabb utveckling av skript och applikationer. Python är ett interpreterat språk vilket innebär att det kan kompileras \"on the fly\". Det medför att det är mer kommunikativt och enklare att förstå än exempelvis Java men också att det är lite långsammare än Java. \n",
    "\n",
    "Huvudsakliga fördelar med Python:\n",
    "\n",
    "* Öppen källkod, som supporteras av Python Software Foundation\n",
    "* Tillgänlig på alla plattformar \n",
    "* Generelltprogrammeringsspråk som kananvändas för det mesta. It is a general-purpose programming language\n",
    "* Supporterar flera olika programmeringsparadigm såsom objektorienterad och funktionell programmering Supports multiple programming paradigms\n",
    "* Väldigt stort community med utvecklare och ett rikt ekosystem med tredjepartspaket som ger en mycket stor möjlighet att snabbt och enkelt bygga avancerade applikationer. Very large community with a rich ecosystem of third-party packages\n",
    "* Många bibliotek och stor användning inom data science och för dataanalys. Exempelvis finnsbibliotek för alla typer av maskininlärning även deep learning. "
   ]
  },
  {
   "cell_type": "code",
   "execution_count": 7,
   "metadata": {},
   "outputs": [],
   "source": [
    "# testa att skriva två olika kommandon här, vad händer?\n"
   ]
  },
  {
   "cell_type": "markdown",
   "metadata": {},
   "source": [
    "## Interpreterat språk\n",
    "\n",
    "Som interpreterat språk kan Python användas på två huvudsakliga sätt: \n",
    "\n",
    "**Interaktivt:** Fungerar som en avancerad miniräknare. Exekverar ett kommando i taget och ger omedelbar återkoppling. Jupyter notebooks är ett exempel på att programmera Python interaktivt.\n",
    "**ex**\n",
    ">>> 2 + 2\n",
    "4\n",
    "\n",
    ">>> print(\"Hello World\")\n",
    "Hello World\n",
    "\n",
    "**Scriptat:** Exekverar en serie av kommandon som sparats i en vanlig textfil smedfiländelsen .py.\n",
    "**ex**\n",
    "```bash\n",
    "user:host:~$ python my_script.py\n",
    "Hello World\n",
    "```\n",
    "\n",
    "**Vi kommer enbart arbeta med Python interaktivt så därför kommer vi inte gå igenom hur scriptprogrammering fungerar, det kan ni dock gärna testa på själva!**"
   ]
  },
  {
   "cell_type": "markdown",
   "metadata": {},
   "source": [
    "skriv ditt svar här och ta bort denna text"
   ]
  },
  {
   "cell_type": "markdown",
   "metadata": {},
   "source": [
    "## Introduktion till inbyggda datatyper i Python \n",
    "\n",
    "### Strings, integers and floats\n",
    "\n",
    "Python har inyggda numeriska datatyper för integer, float och komplexa nummer. String är en inbyggd textdatatyp. \n",
    "\n",
    "```python\n",
    "text = \"Data Analytics\"\n",
    "number = 42\n",
    "pi_value = 3.1415\n",
    "```\n",
    "\n",
    "Ovan har vi skapat tre variabler och gett dem värden, variablerna heter `text`, `number` och `pi_value`. Vi har använt ossav = operatorn föratt tilldela variablerna värden. För att skapa strängvariabler måste texten har \"\" runt sig. För att skriva ut värdena i varje variabel är det bara att skriva variabeln i ett kodblock, det behövs inget `print`. "
   ]
  },
  {
   "cell_type": "code",
   "execution_count": 9,
   "metadata": {},
   "outputs": [],
   "source": [
    "#testa att skapa en egen variabel och skriv ut den:\n"
   ]
  },
  {
   "cell_type": "code",
   "execution_count": null,
   "metadata": {},
   "outputs": [],
   "source": []
  }
 ],
 "metadata": {
  "kernelspec": {
   "display_name": "Python 3",
   "language": "python",
   "name": "python3"
  },
  "language_info": {
   "codemirror_mode": {
    "name": "ipython",
    "version": 3
   },
   "file_extension": ".py",
   "mimetype": "text/x-python",
   "name": "python",
   "nbconvert_exporter": "python",
   "pygments_lexer": "ipython3",
   "version": "3.7.4"
  }
 },
 "nbformat": 4,
 "nbformat_minor": 4
}
